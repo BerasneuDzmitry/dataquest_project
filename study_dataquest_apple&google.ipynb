{
 "cells": [
  {
   "cell_type": "markdown",
   "metadata": {
    "collapsed": true
   },
   "source": [
    "### My project on dataquest "
   ]
  },
  {
   "cell_type": "markdown",
   "metadata": {},
   "source": [
    "For this project, we'll pretend we're working as **data analysts** for a company that builds Android and iOS mobile apps.\n",
    "We make our apps available on Google Play and the App Store.\n",
    "\n",
    "We only build apps that are free to download and install, and our main source of revenue consists of in-app ads. This means our revenue for any given app is mostly influenced by the number of users who use our app — **the more users that see and engage with the ads, the better.** Our goal for this project is to analyze data *to help our developers understand what type of apps are likely to attract more users.*"
   ]
  },
  {
   "cell_type": "code",
   "execution_count": 1,
   "metadata": {},
   "outputs": [],
   "source": [
    "def explore_data(dataset, start, end, rows_and_columns=False):\n",
    "    dataset_slice = dataset[start:end]    \n",
    "    for row in dataset_slice:\n",
    "        print(row)\n",
    "        print('\\n') # adds a new (empty) line after each row\n",
    "\n",
    "    if rows_and_columns:\n",
    "        print('Number of rows:', len(dataset))\n",
    "        print('Number of columns:', len(dataset[0]))"
   ]
  },
  {
   "cell_type": "code",
   "execution_count": 2,
   "metadata": {},
   "outputs": [],
   "source": [
    "opened_file1 = open('AppleStore.csv', encoding='utf-8')\n",
    "from csv import reader\n",
    "read_file1 = reader(opened_file1)\n",
    "apps_data = list(read_file1)\n",
    "\n",
    "opened_file2 = open('googleplaystore.csv', encoding='utf-8')\n",
    "from csv import reader\n",
    "read_file2 = reader(opened_file2)\n",
    "google_data = list(read_file2)"
   ]
  },
  {
   "cell_type": "code",
   "execution_count": 3,
   "metadata": {},
   "outputs": [
    {
     "name": "stdout",
     "output_type": "stream",
     "text": [
      "['id', 'track_name', 'size_bytes', 'currency', 'price', 'rating_count_tot', 'rating_count_ver', 'user_rating', 'user_rating_ver', 'ver', 'cont_rating', 'prime_genre', 'sup_devices.num', 'ipadSc_urls.num', 'lang.num', 'vpp_lic']\n",
      "\n",
      "\n",
      "['284882215', 'Facebook', '389879808', 'USD', '0.0', '2974676', '212', '3.5', '3.5', '95.0', '4+', 'Social Networking', '37', '1', '29', '1']\n",
      "\n",
      "\n",
      "['389801252', 'Instagram', '113954816', 'USD', '0.0', '2161558', '1289', '4.5', '4.0', '10.23', '12+', 'Photo & Video', '37', '0', '29', '1']\n",
      "\n",
      "\n",
      "Number of rows: 7198\n",
      "Number of columns: 16\n"
     ]
    }
   ],
   "source": [
    "explore_data(apps_data, 0, 3, rows_and_columns=True)"
   ]
  },
  {
   "cell_type": "code",
   "execution_count": 4,
   "metadata": {},
   "outputs": [
    {
     "name": "stdout",
     "output_type": "stream",
     "text": [
      "['App', 'Category', 'Rating', 'Reviews', 'Size', 'Installs', 'Type', 'Price', 'Content Rating', 'Genres', 'Last Updated', 'Current Ver', 'Android Ver']\n",
      "\n",
      "\n",
      "['Photo Editor & Candy Camera & Grid & ScrapBook', 'ART_AND_DESIGN', '4.1', '159', '19M', '10,000+', 'Free', '0', 'Everyone', 'Art & Design', 'January 7, 2018', '1.0.0', '4.0.3 and up']\n",
      "\n",
      "\n",
      "['Coloring book moana', 'ART_AND_DESIGN', '3.9', '967', '14M', '500,000+', 'Free', '0', 'Everyone', 'Art & Design;Pretend Play', 'January 15, 2018', '2.0.0', '4.0.3 and up']\n",
      "\n",
      "\n",
      "Number of rows: 10842\n",
      "Number of columns: 13\n"
     ]
    }
   ],
   "source": [
    "explore_data(google_data, 0, 3, rows_and_columns=True)"
   ]
  },
  {
   "cell_type": "code",
   "execution_count": 5,
   "metadata": {},
   "outputs": [],
   "source": [
    "# удаляем ряд, в котором обнаружена ошибка (отсутствует столбец category)\n",
    "del google_data[10473]"
   ]
  },
  {
   "cell_type": "code",
   "execution_count": 6,
   "metadata": {},
   "outputs": [
    {
     "name": "stdout",
     "output_type": "stream",
     "text": [
      "['osmino Wi-Fi: free WiFi', 'TOOLS', '4.2', '134203', '4.1M', '10,000,000+', 'Free', '0', 'Everyone', 'Tools', 'August 7, 2018', '6.06.14', '4.4 and up']\n"
     ]
    }
   ],
   "source": [
    "print(google_data[10473])"
   ]
  },
  {
   "cell_type": "markdown",
   "metadata": {},
   "source": [
    "**As our datasets have duplicates we count them and delete the oldest of them**"
   ]
  },
  {
   "cell_type": "code",
   "execution_count": 7,
   "metadata": {},
   "outputs": [
    {
     "name": "stdout",
     "output_type": "stream",
     "text": [
      "Number of duplicate google apps: 1181\n",
      "\n",
      "\n",
      "Examples of duplicate google apps: ['Quick PDF Scanner + OCR FREE', 'Box', 'Google My Business', 'ZOOM Cloud Meetings', 'join.me - Simple Meetings']\n"
     ]
    }
   ],
   "source": [
    "duplicate_google = []\n",
    "unique_google  = []\n",
    "\n",
    "for row in google_data[1:]:\n",
    "    name = row[0]\n",
    "    if name in unique_google:\n",
    "        duplicate_google.append(name)\n",
    "    else:\n",
    "        unique_google.append(name)\n",
    "        \n",
    "print('Number of duplicate google apps:', len(duplicate_google))\n",
    "print('\\n')\n",
    "print('Examples of duplicate google apps:', duplicate_google[:5])"
   ]
  },
  {
   "cell_type": "code",
   "execution_count": 8,
   "metadata": {},
   "outputs": [
    {
     "name": "stdout",
     "output_type": "stream",
     "text": [
      "Number of duplicate apple apps: 2\n",
      "\n",
      "\n",
      "Examples of duplicate apple apps: ['Mannequin Challenge', 'VR Roller Coaster']\n"
     ]
    }
   ],
   "source": [
    "duplicate_apps = []\n",
    "unique_apps  = []\n",
    "\n",
    "for row in apps_data[1:]:\n",
    "    name = row[1]\n",
    "    if name in unique_apps:\n",
    "        duplicate_apps.append(name)\n",
    "    else:\n",
    "        unique_apps.append(name)\n",
    "        \n",
    "print('Number of duplicate apple apps:', len(duplicate_apps))\n",
    "print('\\n')\n",
    "print('Examples of duplicate apple apps:', duplicate_apps[:5])"
   ]
  },
  {
   "cell_type": "markdown",
   "metadata": {},
   "source": [
    "**it seems that our apps_data has only 2 duplicates**"
   ]
  },
  {
   "cell_type": "markdown",
   "metadata": {},
   "source": [
    "**For our google_data**\n",
    "*The higher the number of reviews, the more recent the data should be. Rather than removing duplicates randomly, we'll only keep the row with the highest number of reviews and remove the other entries for any given app.*"
   ]
  },
  {
   "cell_type": "code",
   "execution_count": 9,
   "metadata": {},
   "outputs": [
    {
     "data": {
      "text/plain": [
       "9659"
      ]
     },
     "execution_count": 9,
     "metadata": {},
     "output_type": "execute_result"
    }
   ],
   "source": [
    "reviews_max = {}\n",
    "for row in google_data[1:]:\n",
    "    name = row[0]\n",
    "    n_reviews = float(row[3])\n",
    "    if name in reviews_max and reviews_max[name] < n_reviews:\n",
    "        reviews_max[name] = n_reviews\n",
    "    if name not in reviews_max:\n",
    "        reviews_max[name] = n_reviews\n",
    "len(reviews_max)"
   ]
  },
  {
   "cell_type": "code",
   "execution_count": 10,
   "metadata": {},
   "outputs": [
    {
     "data": {
      "text/plain": [
       "9659"
      ]
     },
     "execution_count": 10,
     "metadata": {},
     "output_type": "execute_result"
    }
   ],
   "source": [
    "google_clean = []\n",
    "already_added = []\n",
    "for row in google_data[1:]:\n",
    "    name = row[0]\n",
    "    n_reviews = float(row[3])\n",
    "    if n_reviews == reviews_max[name] and name not in already_added:\n",
    "        google_clean.append(row)\n",
    "        already_added.append(name)\n",
    "len(google_clean)"
   ]
  },
  {
   "cell_type": "code",
   "execution_count": 11,
   "metadata": {},
   "outputs": [
    {
     "data": {
      "text/plain": [
       "7195"
      ]
     },
     "execution_count": 11,
     "metadata": {},
     "output_type": "execute_result"
    }
   ],
   "source": [
    "ratings_max = {}\n",
    "for row in apps_data[1:]:\n",
    "    name = row[1]\n",
    "    n_ratings = float(row[5])\n",
    "    if name in ratings_max and ratings_max[name] < n_ratings:\n",
    "        ratings_max[name] = n_ratings\n",
    "    if name not in ratings_max:\n",
    "        ratings_max[name] = n_ratings\n",
    "len(ratings_max)"
   ]
  },
  {
   "cell_type": "code",
   "execution_count": 12,
   "metadata": {},
   "outputs": [
    {
     "data": {
      "text/plain": [
       "7195"
      ]
     },
     "execution_count": 12,
     "metadata": {},
     "output_type": "execute_result"
    }
   ],
   "source": [
    "apple_clean = []\n",
    "already_added = []\n",
    "for row in apps_data[1:]:\n",
    "    name = row[1]\n",
    "    n_ratings = float(row[5])\n",
    "    if n_ratings == ratings_max[name] and name not in already_added:\n",
    "        apple_clean.append(row)\n",
    "        already_added.append(name)\n",
    "len(apple_clean)"
   ]
  },
  {
   "cell_type": "markdown",
   "metadata": {},
   "source": [
    "In the previous step, we managed to remove the duplicate app entries in the Google Play data set. Remember we use English for the apps we develop at our company, and we'd like to analyze only the apps that are directed toward an English-speaking audience. However, if we explore the data long enough, we'll find that both data sets have apps with names that suggest they are not directed toward an English-speaking audience."
   ]
  },
  {
   "cell_type": "markdown",
   "metadata": {},
   "source": [
    "The numbers corresponding to the characters we commonly use in an English text are all in the range 0 to 127, according to the ASCII (American Standard Code for Information Interchange) system. Based on this number range, we can build a function that detects whether a character belongs to the set of common English characters or not. If the number is equal to or less than 127, then the character belongs to the set of common English characters."
   ]
  },
  {
   "cell_type": "code",
   "execution_count": 13,
   "metadata": {},
   "outputs": [],
   "source": [
    "# function takes in a string and returns False\n",
    "# if there's any character in the string that doesn't belong\n",
    "# to the set of common English characters, otherwise it returns True\n",
    "\n",
    "def checking_english(string):\n",
    "    for letter in string:\n",
    "        if ord(letter) > 127:\n",
    "            return False\n",
    "    return True"
   ]
  },
  {
   "cell_type": "code",
   "execution_count": 14,
   "metadata": {},
   "outputs": [
    {
     "name": "stdout",
     "output_type": "stream",
     "text": [
      "True\n",
      "False\n",
      "False\n",
      "False\n"
     ]
    }
   ],
   "source": [
    "print(checking_english('Instagram'))\n",
    "print(checking_english('爱奇艺PPS -《欢乐颂2》电视剧热播'))\n",
    "print(checking_english('Docs To Go™ Free Office Suite'))\n",
    "print(checking_english('Instachat 😜'))"
   ]
  },
  {
   "cell_type": "markdown",
   "metadata": {},
   "source": [
    "If we're going to use the function we've created, we'll lose useful data since many English apps will be incorrectly labeled as non-English. To minimize the impact of data loss, we'll only remove an app if its name has more than three characters with corresponding numbers falling outside the ASCII range. This means all English apps with up to three emoji or other special characters will still be labeled as English. Our filter function is still not perfect, but it should be fairly effective."
   ]
  },
  {
   "cell_type": "code",
   "execution_count": 15,
   "metadata": {},
   "outputs": [],
   "source": [
    "# updating our function\n",
    "\n",
    "def checking_english_v2(string):\n",
    "    count_letters = 0\n",
    "    for letter in string:\n",
    "        if ord(letter) > 127:\n",
    "            count_letters += 1\n",
    "    if count_letters > 3:\n",
    "        return False\n",
    "    else:\n",
    "        return True"
   ]
  },
  {
   "cell_type": "code",
   "execution_count": 16,
   "metadata": {},
   "outputs": [
    {
     "name": "stdout",
     "output_type": "stream",
     "text": [
      "True\n",
      "False\n",
      "True\n",
      "True\n"
     ]
    }
   ],
   "source": [
    "print(checking_english_v2('Instagram'))\n",
    "print(checking_english_v2('爱奇艺PPS -《欢乐颂2》电视剧热播'))\n",
    "print(checking_english_v2('Docs To Go™ Free Office Suite'))\n",
    "print(checking_english_v2('Instachat 😜'))"
   ]
  },
  {
   "cell_type": "markdown",
   "metadata": {},
   "source": [
    "*Using the new function to filter out non-English apps from both data sets*"
   ]
  },
  {
   "cell_type": "code",
   "execution_count": 17,
   "metadata": {},
   "outputs": [
    {
     "data": {
      "text/plain": [
       "9614"
      ]
     },
     "execution_count": 17,
     "metadata": {},
     "output_type": "execute_result"
    }
   ],
   "source": [
    "google_clean_eng = []\n",
    "for row in google_clean:\n",
    "    name = row[0]\n",
    "    if checking_english_v2(name) == True:\n",
    "        google_clean_eng.append(row)\n",
    "len(google_clean_eng)"
   ]
  },
  {
   "cell_type": "code",
   "execution_count": 18,
   "metadata": {},
   "outputs": [
    {
     "data": {
      "text/plain": [
       "6181"
      ]
     },
     "execution_count": 18,
     "metadata": {},
     "output_type": "execute_result"
    }
   ],
   "source": [
    "apple_clean_eng = []\n",
    "for row in apple_clean:\n",
    "    name = row[1]\n",
    "    if checking_english_v2(name) == True:\n",
    "        apple_clean_eng.append(row)\n",
    "len(apple_clean_eng)"
   ]
  },
  {
   "cell_type": "markdown",
   "metadata": {},
   "source": [
    "As we mentioned in the introduction, we only build apps that are free to download and install, and our main source of revenue consists of in-app ads. Our data sets contain both free and non-free apps; we'll need to isolate only the free apps for our analysis."
   ]
  },
  {
   "cell_type": "code",
   "execution_count": 19,
   "metadata": {},
   "outputs": [
    {
     "name": "stdout",
     "output_type": "stream",
     "text": [
      "8863\n",
      "751\n"
     ]
    }
   ],
   "source": [
    "free_google_clean_eng = []\n",
    "paid_google_clean_eng = []\n",
    "for row in google_clean_eng:\n",
    "    type_price = row[6]\n",
    "    if type_price == 'Free':\n",
    "        free_google_clean_eng.append(row)\n",
    "    else:\n",
    "        paid_google_clean_eng.append(row)\n",
    "print(len(free_google_clean_eng))\n",
    "print(len(paid_google_clean_eng))"
   ]
  },
  {
   "cell_type": "code",
   "execution_count": 20,
   "metadata": {},
   "outputs": [
    {
     "name": "stdout",
     "output_type": "stream",
     "text": [
      "3220\n",
      "2961\n"
     ]
    }
   ],
   "source": [
    "free_apple_clean_eng = []\n",
    "paid_apple_clean_eng = []\n",
    "for row in apple_clean_eng:\n",
    "    price = float(row[4])\n",
    "    if price == 0:\n",
    "        free_apple_clean_eng.append(row)\n",
    "    else:\n",
    "        paid_apple_clean_eng.append(row)\n",
    "print(len(free_apple_clean_eng))\n",
    "print(len(paid_apple_clean_eng))"
   ]
  },
  {
   "cell_type": "markdown",
   "metadata": {},
   "source": [
    "Because our end goal is to add the app on both Google Play and the App Store, we need to find app profiles that are successful on both markets. For instance, a profile that works well for both markets might be a productivity app that makes use of gamification."
   ]
  },
  {
   "cell_type": "code",
   "execution_count": 21,
   "metadata": {},
   "outputs": [
    {
     "name": "stdout",
     "output_type": "stream",
     "text": [
      "FAMILY : 1675\n",
      "GAME : 862\n",
      "TOOLS : 750\n",
      "BUSINESS : 407\n",
      "LIFESTYLE : 346\n",
      "PRODUCTIVITY : 345\n",
      "FINANCE : 328\n",
      "MEDICAL : 313\n",
      "SPORTS : 301\n",
      "PERSONALIZATION : 294\n"
     ]
    }
   ],
   "source": [
    "# формируем словарь с количеством жанров\n",
    "google_genres = {}\n",
    "for row in free_google_clean_eng:\n",
    "    genre = row[1]\n",
    "    if genre in google_genres:\n",
    "        google_genres[genre] += 1\n",
    "    else:\n",
    "        google_genres[genre] = 1\n",
    "\n",
    "# выполняем сортировку словаря по значениям и делаем реверс, печатаем топ-10\n",
    "list_google_genres = list(google_genres.items())\n",
    "list_google_genres.sort(key=lambda i: i[1])\n",
    "list_google_genres.reverse()\n",
    "for i in list_google_genres[:10]:\n",
    "    print(i[0], ':', i[1])"
   ]
  },
  {
   "cell_type": "code",
   "execution_count": 22,
   "metadata": {},
   "outputs": [
    {
     "name": "stdout",
     "output_type": "stream",
     "text": [
      "Games : 1872\n",
      "Entertainment : 254\n",
      "Photo & Video : 160\n",
      "Education : 118\n",
      "Social Networking : 106\n",
      "Shopping : 84\n",
      "Utilities : 81\n",
      "Sports : 69\n",
      "Music : 66\n",
      "Health & Fitness : 65\n"
     ]
    }
   ],
   "source": [
    "# формируем словарь с количеством жанров\n",
    "apple_genres = {}\n",
    "for row in free_apple_clean_eng:\n",
    "    genre = row[11]\n",
    "    if genre in apple_genres:\n",
    "        apple_genres[genre] += 1\n",
    "    else:\n",
    "        apple_genres[genre] = 1\n",
    "\n",
    "# выполняем сортировку словаря по значениям и делаем реверс, печатаем топ-10\n",
    "list_apple_genres = list(apple_genres.items())\n",
    "list_apple_genres.sort(key=lambda i: i[1])\n",
    "list_apple_genres.reverse()\n",
    "for i in list_apple_genres[:10]:\n",
    "    print(i[0], ':', i[1])"
   ]
  },
  {
   "cell_type": "markdown",
   "metadata": {},
   "source": [
    "The frequency tables we analyzed on the previous screen showed us that the App Store is dominated by apps designed for fun, while Google Play shows a more balanced landscape of both practical and fun apps. Now, we'd like to get an idea about the kind of apps with the most users."
   ]
  },
  {
   "cell_type": "markdown",
   "metadata": {},
   "source": [
    "One way to find out what genres are the most popular (have the most users) is to calculate the average number of installs for each app genre. For the Google Play data set, we can find this information in the Installs column, but this information is missing for the App Store data set. As a workaround, we'll take the total number of user ratings as a proxy, which we can find in the rating_count_tot app."
   ]
  },
  {
   "cell_type": "code",
   "execution_count": 23,
   "metadata": {},
   "outputs": [
    {
     "name": "stdout",
     "output_type": "stream",
     "text": [
      "Social Networking 71548.3\n",
      "Photo & Video 28441.5\n",
      "Games 22812.9\n",
      "Music 57326.5\n",
      "Reference 74942.1\n",
      "Health & Fitness 23298.0\n",
      "Weather 52279.9\n",
      "Utilities 18684.5\n",
      "Travel 28243.8\n",
      "Shopping 26919.7\n",
      "News 21248.0\n",
      "Navigation 86090.3\n",
      "Lifestyle 16485.8\n",
      "Entertainment 14029.8\n",
      "Food & Drink 33333.9\n",
      "Sports 23008.9\n",
      "Book 39758.5\n",
      "Finance 31467.9\n",
      "Education 7004.0\n",
      "Productivity 21028.4\n",
      "Business 7491.1\n",
      "Catalogs 4004.0\n",
      "Medical 612.0\n"
     ]
    }
   ],
   "source": [
    "# считаем среднее количество оценок пользователей для каждого жанра\n",
    "for genre in apple_genres:\n",
    "    total = 0\n",
    "    len_genre = 0\n",
    "    \n",
    "    for row in free_apple_clean_eng:\n",
    "        genre_app = row[11]\n",
    "        if genre_app == genre:\n",
    "            n_rating = float(row[5])\n",
    "            total += n_rating\n",
    "            len_genre += 1\n",
    "    \n",
    "    avg_number = round(total / len_genre, 1)\n",
    "    print(genre, avg_number)\n"
   ]
  },
  {
   "cell_type": "code",
   "execution_count": 24,
   "metadata": {},
   "outputs": [
    {
     "name": "stdout",
     "output_type": "stream",
     "text": [
      "ART_AND_DESIGN 1986335.1\n",
      "AUTO_AND_VEHICLES 647317.8\n",
      "BEAUTY 513151.9\n",
      "BOOKS_AND_REFERENCE 8767811.9\n",
      "BUSINESS 1712290.1\n",
      "COMICS 817657.3\n",
      "COMMUNICATION 38456119.2\n",
      "DATING 854028.8\n",
      "EDUCATION 1833495.1\n",
      "ENTERTAINMENT 11640705.9\n",
      "EVENTS 253542.2\n",
      "FINANCE 1387692.5\n",
      "FOOD_AND_DRINK 1924897.7\n",
      "HEALTH_AND_FITNESS 4188822.0\n",
      "HOUSE_AND_HOME 1331540.6\n",
      "LIBRARIES_AND_DEMO 638503.7\n",
      "LIFESTYLE 1437816.3\n",
      "GAME 15588015.6\n",
      "FAMILY 3697848.2\n",
      "MEDICAL 120550.6\n",
      "SOCIAL 23253652.1\n",
      "SHOPPING 7036877.3\n",
      "PHOTOGRAPHY 17840110.4\n",
      "SPORTS 3638640.1\n",
      "TRAVEL_AND_LOCAL 13984077.7\n",
      "TOOLS 10801391.3\n",
      "PERSONALIZATION 5201482.6\n",
      "PRODUCTIVITY 16787331.3\n",
      "PARENTING 542603.6\n",
      "WEATHER 5074486.2\n",
      "VIDEO_PLAYERS 24727872.5\n",
      "NEWS_AND_MAGAZINES 9549178.5\n",
      "MAPS_AND_NAVIGATION 4056941.8\n"
     ]
    }
   ],
   "source": [
    "# считаем среднее количество установок для каждого жанра\n",
    "for genre in google_genres:\n",
    "    total = 0\n",
    "    len_genre = 0\n",
    "    \n",
    "    for row in free_google_clean_eng:\n",
    "        genre_app = row[1]\n",
    "        if genre_app == genre:\n",
    "            n_installs = row[5]\n",
    "            n_installs = n_installs.replace('+', '')\n",
    "            n_installs = n_installs.replace(',', '')\n",
    "            n_installs = float(n_installs)\n",
    "            total += n_installs\n",
    "            len_genre += 1\n",
    "    \n",
    "    avg_number = round(total / len_genre, 1)\n",
    "    print(genre, avg_number)\n"
   ]
  }
 ],
 "metadata": {
  "kernelspec": {
   "display_name": "Python 3",
   "language": "python",
   "name": "python3"
  },
  "language_info": {
   "codemirror_mode": {
    "name": "ipython",
    "version": 3
   },
   "file_extension": ".py",
   "mimetype": "text/x-python",
   "name": "python",
   "nbconvert_exporter": "python",
   "pygments_lexer": "ipython3",
   "version": "3.7.6"
  }
 },
 "nbformat": 4,
 "nbformat_minor": 2
}
